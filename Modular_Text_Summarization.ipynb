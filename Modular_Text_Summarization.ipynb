{
  "nbformat": 4,
  "nbformat_minor": 0,
  "metadata": {
    "colab": {
      "provenance": []
    },
    "kernelspec": {
      "name": "python3",
      "display_name": "Python 3"
    },
    "language_info": {
      "name": "python"
    }
  },
  "cells": [
    {
      "cell_type": "markdown",
      "source": [
        "# Modular Text Summarization\n",
        "\n",
        "## Introduction\n",
        "In the age of information overload, automatic summarization has become crucial for extracting essential information from long text data. Dialogue summarization, a subdomain of text summarization, focuses on condensing multi-turn conversations (like chat or meeting transcripts) into concise summaries that retain the key points. This task is challenging due to the informal and unstructured nature of dialogues compared to regular text.\n",
        "\n",
        "In this project, we leverage the power of pretrained transformer-based models — specifically the BART model (facebook/bart-large-cnn) — to generate abstractive summaries from dialogue datasets. The model is fine-tuned for summarization tasks and excels at understanding context and generating human-like summaries.\n",
        "\n",
        "## Objective\n",
        "The main objectives of this project are:\n",
        "*   To implement a complete pipeline for abstractive dialogue summarization using Hugging Face's Transformers.\n",
        "*   To load and preprocess the dialogue dataset using datasets library.\n",
        "*   To utilize the pretrained facebook/bart-large-cnn model for generating summaries.\n",
        "*   To evaluate the performance of the summarization using ROUGE metrics.\n",
        "*   To analyze and compare the generated summaries with reference summaries for quality assessment.\n",
        "\n",
        "## Dataset Description\n",
        "We use the Samsum Dataset, a benchmark dataset for dialogue summarization. It contains thousands of English language conversations along with professionally written abstractive summaries.\n",
        "The SAMSum dataset contains informal, real-life chat-style conversations, often short but contextually rich.Many conversations have abrupt topic shifts, emojis, or casual tone  making summarization non-trivial.The dataset supports quick experimentation due to its small size, but is still diverse enough to test generalization capabilities.\n",
        "\n",
        "*   Dataset Name: samsum\n",
        "*   Source: Hugging Face Datasets Library\n",
        "*   Split:Train : 14,000 examples, Validation: 800 examples, Test: 800 examples\n",
        "\n",
        "*   Fields: dialogue A multi-turn conversation between two people and a human-written summary of the dialogue.\n",
        "\n",
        "Link to Dataset - https://huggingface.co/datasets/Samsung/samsum\n",
        "\n",
        "## Model Used: facebook/bart-large-cnn\n",
        "\n",
        "\n",
        "\n",
        "*   Model Type: BART – Bidirectional and Auto-Regressive Transformers.\n",
        "*   Architecture: Sequence-to-sequence model with a transformer-based encoder and decoder.\n",
        "*   Pretrained On: Large-scale corpus (e.g., news articles, Wikipedia).\n",
        "*   Fine-Tuned For: Abstractive text summarization on the CNN/DailyMail dataset.\n",
        "*   Tokenizer: Uses AutoTokenizer from Hugging Face Transformers – handles tokenization, padding, truncation.\n",
        "*   Summarization Approach: Generates summaries using beam search or greedy decoding strategies.\n",
        "\n",
        "Link to Model on Hugging Face: - https://huggingface.co/facebook/bart-large-cnn\n",
        "\n",
        "\n",
        "\n",
        "\n"
      ],
      "metadata": {
        "id": "xTmOgeKc5sbN"
      }
    },
    {
      "cell_type": "code",
      "source": [
        "!pip install py7zr\n",
        "!pip install transformers datasets rouge-score"
      ],
      "metadata": {
        "id": "aIieQGXmAfo7"
      },
      "execution_count": null,
      "outputs": []
    },
    {
      "cell_type": "code",
      "source": [
        "%%writefile data_loader.py\n",
        "from datasets import load_dataset\n",
        "\n",
        "class DataLoader:\n",
        "    def __init__(self, dataset_name='samsum'):\n",
        "        self.dataset = load_dataset(dataset_name)\n",
        "\n",
        "    def get_data(self, split='test'):\n",
        "        return self.dataset[split]"
      ],
      "metadata": {
        "colab": {
          "base_uri": "https://localhost:8080/"
        },
        "id": "2qfTefD-4mpg",
        "outputId": "1f4b6ea8-20f6-457c-f863-377ed6a8c26c"
      },
      "execution_count": 1,
      "outputs": [
        {
          "output_type": "stream",
          "name": "stdout",
          "text": [
            "Writing data_loader.py\n"
          ]
        }
      ]
    },
    {
      "cell_type": "code",
      "source": [
        "%%writefile model.py\n",
        "from transformers import AutoTokenizer, AutoModelForSeq2SeqLM\n",
        "\n",
        "class SummarizationModel:\n",
        "    def __init__(self, model_name):\n",
        "        self.tokenizer = AutoTokenizer.from_pretrained(model_name)\n",
        "        self.model = AutoModelForSeq2SeqLM.from_pretrained(model_name)\n",
        "\n",
        "    def summarize(self, text, max_length=150, min_length=40, do_sample=False):\n",
        "        inputs = self.tokenizer(\n",
        "            [text],\n",
        "            return_tensors=\"pt\",\n",
        "            truncation=True,\n",
        "            padding=\"longest\",\n",
        "            max_length=1024\n",
        "        )\n",
        "        summary_ids = self.model.generate(\n",
        "            inputs[\"input_ids\"],\n",
        "            max_length=max_length,\n",
        "            min_length=min_length,\n",
        "            do_sample=do_sample,\n",
        "            num_beams=4,\n",
        "            length_penalty=2.0,\n",
        "            early_stopping=True\n",
        "        )\n",
        "        return self.tokenizer.decode(summary_ids[0], skip_special_tokens=True).strip()\n"
      ],
      "metadata": {
        "colab": {
          "base_uri": "https://localhost:8080/"
        },
        "id": "Qa3c9TYs4msj",
        "outputId": "8a0dd53b-690c-4f9a-9a41-73f853b2b360"
      },
      "execution_count": 3,
      "outputs": [
        {
          "output_type": "stream",
          "name": "stdout",
          "text": [
            "Writing model.py\n"
          ]
        }
      ]
    },
    {
      "cell_type": "code",
      "source": [
        "%%writefile pipeline.py\n",
        "class SummarizationPipeline:\n",
        "    def __init__(self, data_loader, model):\n",
        "        self.data_loader = data_loader\n",
        "        self.model = model\n",
        "\n",
        "    def run(self, num_samples=5):\n",
        "        data = self.data_loader.get_data()\n",
        "        results = []\n",
        "\n",
        "        for idx, item in enumerate(data.select(range(num_samples))):\n",
        "            dialogue = item['dialogue']\n",
        "            reference = item['summary']\n",
        "            generated = self.model.summarize(dialogue)\n",
        "            results.append({\n",
        "                \"dialogue\": dialogue,\n",
        "                \"reference\": reference,\n",
        "                \"generated\": generated\n",
        "            })\n",
        "        return results\n"
      ],
      "metadata": {
        "colab": {
          "base_uri": "https://localhost:8080/"
        },
        "id": "s9Jd_O-P4mvW",
        "outputId": "c80708bc-4b7d-443a-d563-12a21156e0f4"
      },
      "execution_count": 4,
      "outputs": [
        {
          "output_type": "stream",
          "name": "stdout",
          "text": [
            "Writing pipeline.py\n"
          ]
        }
      ]
    },
    {
      "cell_type": "code",
      "source": [
        "%%writefile evaluator.py\n",
        "from rouge_score import rouge_scorer\n",
        "\n",
        "class Evaluator:\n",
        "    def __init__(self):\n",
        "        self.scorer = rouge_scorer.RougeScorer(['rouge1', 'rouge2', 'rougeL'], use_stemmer=True)\n",
        "\n",
        "    def evaluate(self, results):\n",
        "        scores = {\"rouge1\": [], \"rouge2\": [], \"rougeL\": []}\n",
        "        for item in results:\n",
        "            ref = item['reference']\n",
        "            gen = item['generated']\n",
        "            score = self.scorer.score(ref, gen)\n",
        "            for k in scores:\n",
        "                scores[k].append(score[k].fmeasure)\n",
        "        avg_scores = {k: sum(v)/len(v) for k, v in scores.items()}\n",
        "        return avg_scores\n"
      ],
      "metadata": {
        "colab": {
          "base_uri": "https://localhost:8080/"
        },
        "id": "mHfUCdBc4myT",
        "outputId": "569b7353-d7a2-46ad-c0da-0eecd57eb51a"
      },
      "execution_count": 5,
      "outputs": [
        {
          "output_type": "stream",
          "name": "stdout",
          "text": [
            "Writing evaluator.py\n"
          ]
        }
      ]
    },
    {
      "cell_type": "code",
      "source": [
        "# main.py\n",
        "from data_loader import DataLoader\n",
        "from model import SummarizationModel\n",
        "from pipeline import SummarizationPipeline\n",
        "from evaluator import Evaluator\n",
        "\n",
        "def main():\n",
        "    loader = DataLoader()\n",
        "    model = SummarizationModel(model_name=\"facebook/bart-large-cnn\")\n",
        "    pipeline = SummarizationPipeline(loader, model)\n",
        "\n",
        "    results = pipeline.run(num_samples=3)\n",
        "\n",
        "    evaluator = Evaluator()\n",
        "    scores = evaluator.evaluate(results)\n",
        "\n",
        "    for i, item in enumerate(results):\n",
        "        print(f\"\\nExample {i + 1}\")\n",
        "        print(\"Dialogue:\", item[\"dialogue\"])\n",
        "        print(\"Reference:\", item[\"reference\"])\n",
        "        print(\"Generated:\", item[\"generated\"])\n",
        "        print(\"-\" * 80)\n",
        "\n",
        "    print(\"\\nROUGE Scores:\")\n",
        "    for k, v in scores.items():\n",
        "        print(f\"{k}: {v:.4f}\")\n",
        "\n",
        "if __name__ == \"__main__\":\n",
        "    main()\n"
      ],
      "metadata": {
        "colab": {
          "base_uri": "https://localhost:8080/"
        },
        "id": "N0cvQDAx4m35",
        "outputId": "50598af1-a87a-4493-9a3c-856f07dad2b8"
      },
      "execution_count": 9,
      "outputs": [
        {
          "output_type": "stream",
          "name": "stdout",
          "text": [
            "\n",
            "Example 1\n",
            "Dialogue: Hannah: Hey, do you have Betty's number?\n",
            "Amanda: Lemme check\n",
            "Hannah: <file_gif>\n",
            "Amanda: Sorry, can't find it.\n",
            "Amanda: Ask Larry\n",
            "Amanda: He called her last time we were at the park together\n",
            "Hannah: I don't know him well\n",
            "Hannah: <file_gif>\n",
            "Amanda: Don't be shy, he's very nice\n",
            "Hannah: If you say so..\n",
            "Hannah: I'd rather you texted him\n",
            "Amanda: Just text him 🙂\n",
            "Hannah: Urgh.. Alright\n",
            "Hannah: Bye\n",
            "Amanda: Bye bye\n",
            "Reference: Hannah needs Betty's number but Amanda doesn't have it. She needs to contact Larry.\n",
            "Generated: Hannah: Hey, do you have Betty's number? Amanda: Lemme check. Ask Larry. He called her last time we were at the park together. I don't know him well.\n",
            "--------------------------------------------------------------------------------\n",
            "\n",
            "Example 2\n",
            "Dialogue: Eric: MACHINE!\r\n",
            "Rob: That's so gr8!\r\n",
            "Eric: I know! And shows how Americans see Russian ;)\r\n",
            "Rob: And it's really funny!\r\n",
            "Eric: I know! I especially like the train part!\r\n",
            "Rob: Hahaha! No one talks to the machine like that!\r\n",
            "Eric: Is this his only stand-up?\r\n",
            "Rob: Idk. I'll check.\r\n",
            "Eric: Sure.\r\n",
            "Rob: Turns out no! There are some of his stand-ups on youtube.\r\n",
            "Eric: Gr8! I'll watch them now!\r\n",
            "Rob: Me too!\r\n",
            "Eric: MACHINE!\r\n",
            "Rob: MACHINE!\r\n",
            "Eric: TTYL?\r\n",
            "Rob: Sure :)\n",
            "Reference: Eric and Rob are going to watch a stand-up on youtube.\n",
            "Generated: Rob: Is this his only stand-up? Eric: Sure. Rob: Idk. There are some of his stand-ups on youtube. Eric: Gr8! I'll watch them now! Rob: Me too!\n",
            "--------------------------------------------------------------------------------\n",
            "\n",
            "Example 3\n",
            "Dialogue: Lenny: Babe, can you help me with something?\r\n",
            "Bob: Sure, what's up?\r\n",
            "Lenny: Which one should I pick?\r\n",
            "Bob: Send me photos\r\n",
            "Lenny:  <file_photo>\r\n",
            "Lenny:  <file_photo>\r\n",
            "Lenny:  <file_photo>\r\n",
            "Bob: I like the first ones best\r\n",
            "Lenny: But I already have purple trousers. Does it make sense to have two pairs?\r\n",
            "Bob: I have four black pairs :D :D\r\n",
            "Lenny: yeah, but shouldn't I pick a different color?\r\n",
            "Bob: what matters is what you'll give you the most outfit options\r\n",
            "Lenny: So I guess I'll buy the first or the third pair then\r\n",
            "Bob: Pick the best quality then\r\n",
            "Lenny: ur right, thx\r\n",
            "Bob: no prob :)\n",
            "Reference: Lenny can't decide which trousers to buy. Bob advised Lenny on that topic. Lenny goes with Bob's advice to pick the trousers that are of best quality.\n",
            "Generated: Lenny: Babe, can you help me with something? \"Bob: Sure, what's up?\" \"Which one should I pick?\" \"Send me photos\" \"I already have purple trousers. Does it make sense to have two pairs?\"\n",
            "--------------------------------------------------------------------------------\n",
            "\n",
            "ROUGE Scores:\n",
            "rouge1: 0.3382\n",
            "rouge2: 0.0636\n",
            "rougeL: 0.2563\n"
          ]
        }
      ]
    },
    {
      "cell_type": "code",
      "source": [
        "import matplotlib.pyplot as plt\n",
        "rouge_scores = {'ROUGE-1': 0.363, 'ROUGE-2': 0.069, 'ROUGE-L': 0.274}\n",
        "plt.bar(rouge_scores.keys(), rouge_scores.values(), color=['skyblue', 'orange', 'lightgreen'])\n",
        "plt.title('ROUGE Score Comparison')\n",
        "plt.ylabel('Score')\n",
        "plt.ylim(0, 1)\n",
        "plt.show()"
      ],
      "metadata": {
        "colab": {
          "base_uri": "https://localhost:8080/",
          "height": 452
        },
        "id": "z4Jljn8TG9P0",
        "outputId": "74677dcd-8199-4750-d943-5ffbe32f57be"
      },
      "execution_count": 10,
      "outputs": [
        {
          "output_type": "display_data",
          "data": {
            "text/plain": [
              "<Figure size 640x480 with 1 Axes>"
            ],
            "image/png": "[encoded data removed]"
          },
          "metadata": {}
        }
      ]
    },
    {
      "cell_type": "markdown",
      "source": [
        "## Limitations\n",
        "*   Model bias: The pretrained BART model may sometimes produce generic or repetitive summaries.\n",
        "*   No fine-tuning: Since we only used a pretrained model, the results could be improved with fine-tuning on the samsum dataset.\n",
        "*   Truncation issues: Long dialogues might get truncated at the tokenization stage due to token limits.\n",
        "*   ROUGE limitations: ROUGE scores may not always reflect true summary quality — especially for paraphrased or semantically correct summaries.\n",
        "\n",
        "##Improvements\n",
        "*   Fine-tune BART or T5 specifically on SAMSum for better domain adaptation.\n",
        "*   Preprocessing: Clean up dialogues — remove filler words, standardize emojis or abbreviations.\n",
        "*   Try different models: Explore PEGASUS, DistilBART, or Flan-T5 and compare performance.\n",
        "*   Add visualizations (bar plots of ROUGE scores, word clouds of summaries, etc.) for better insights.\n",
        "\n",
        "\n",
        "\n",
        "\n",
        "\n"
      ],
      "metadata": {
        "id": "QdAeiTmi7qCB"
      }
    },
    {
      "cell_type": "markdown",
      "source": [
        "## Conclusion\n",
        "While the implementation of a text summarization model using the BART architecture performed decently, several improvements can be made by fine-tuning the model, incorporating multimodal information, and exploring new evaluation methods. The limitations of informal language, small datasets, and token restrictions highlight the need for specialized models and domain-specific datasets in the future."
      ],
      "metadata": {
        "id": "ahq8r_a3Asei"
      }
    }
  ]
}